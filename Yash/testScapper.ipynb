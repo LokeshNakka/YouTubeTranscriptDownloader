{
 "cells": [
  {
   "cell_type": "code",
   "execution_count": 11,
   "outputs": [
    {
     "name": "stderr",
     "output_type": "stream",
     "text": [
      "100%|██████████| 5/5 [00:54<00:00, 10.95s/it]\n",
      "100%|██████████| 17/17 [01:00<00:00,  4.33s/it]"
     ]
    }
   ],
   "source": [
    "\n",
    "import queue\n",
    "import threading\n",
    "import time\n",
    "\n",
    "import pandas\n",
    "from lxml import html\n",
    "from selenium.webdriver import Chrome, Edge\n",
    "from selenium.webdriver.chrome.options import Options\n",
    "from selenium.webdriver.chrome.service import Service\n",
    "from selenium.webdriver.common.by import By\n",
    "from selenium.webdriver.common.desired_capabilities import DesiredCapabilities\n",
    "from selenium.webdriver.edge.options import Options as EdgeOptions\n",
    "from selenium.webdriver.support import expected_conditions as EC\n",
    "from selenium.webdriver.support.wait import WebDriverWait\n",
    "from tqdm import tqdm\n",
    "from webdriver_manager.chrome import ChromeDriverManager\n",
    "from webdriver_manager.microsoft import EdgeChromiumDriverManager\n",
    "\n",
    "\n",
    "def GetChromeBrowser(isHeadless=True):\n",
    "    opt = Options()\n",
    "    if isHeadless:\n",
    "        opt.add_argument(\"--headless\")\n",
    "    opt.add_argument(\"--mute-audio\")\n",
    "    opt.add_argument(\"--disable-notifications\")\n",
    "    capabilities = DesiredCapabilities.CHROME\n",
    "    capabilities[\"goog:loggingPrefs\"] = {\"performance\": \"ALL\"}\n",
    "    try:\n",
    "        return Chrome(service=Service(ChromeDriverManager().install()), options=opt)\n",
    "    except Exception as err:\n",
    "        print(err)\n",
    "\n",
    "\n",
    "def GetEdgeBrowser(isHeadless=True):\n",
    "    options = EdgeOptions()\n",
    "    if isHeadless:\n",
    "        options.add_argument(\"--headless\")\n",
    "    options.add_argument(\"--mute-audio\")\n",
    "    options.add_argument(\"--disable-notifications\")\n",
    "\n",
    "    try:\n",
    "        return Edge(service=Service(EdgeChromiumDriverManager().install()), options=options)\n",
    "    except Exception as err:\n",
    "        print(err)\n",
    "\n",
    "\n",
    "resultQ = queue.Queue()\n",
    "errorQ = queue.Queue()\n",
    "\n",
    "\n",
    "def Scrapper(driver, url):\n",
    "    driver.get(url)\n",
    "\n",
    "    titleXpath = '//td[@class=\"navbar header-forum-description\"]/descendant::strong/text()'\n",
    "    lastButton = \"//a[contains(text(),'Last')]/@href\"\n",
    "\n",
    "    try:\n",
    "        lastButton_element = WebDriverWait(driver, 25).until(\n",
    "            EC.visibility_of_all_elements_located((By.XPATH, lastButton)))\n",
    "    except:\n",
    "        pass\n",
    "\n",
    "    d_data = {}\n",
    "    driver.execute_script(\"window.scrollTo(0, document.body.scrollHeight * .2);\")\n",
    "\n",
    "    try:\n",
    "        ctitleXpath_element = WebDriverWait(driver, 10).until(\n",
    "            EC.presence_of_element_located((By.XPATH, titleXpath)))\n",
    "    except:\n",
    "        pass\n",
    "\n",
    "\n",
    "    page_source = driver.page_source\n",
    "    doc = html.fromstring(page_source)\n",
    "\n",
    "    d_data['title'] = '\\n'.join(doc.xpath(titleXpath))\n",
    "    d_data['price'] = '\\n'.join(doc.xpath(titleXpath))\n",
    "    d_data['url'] = url\n",
    "    resultQ.put(d_data)\n",
    "\n",
    "\n",
    "jobs = queue.Queue()\n",
    "\n",
    "\n",
    "def WorkerLoop(progress_bar: tqdm):\n",
    "    # driver = GetChromeBrowser(False)\n",
    "    driver = GetEdgeBrowser(False)\n",
    "    while not jobs.empty():\n",
    "        url = jobs.get()\n",
    "        try:\n",
    "            Scrapper(driver, url)\n",
    "        except:\n",
    "            errorQ.put({'url': url})\n",
    "\n",
    "            pass\n",
    "        time.sleep(1)\n",
    "        progress_bar.update()\n",
    "\n",
    "\n",
    "\n",
    "data = pandas.read_excel('sample1..xlsx')\n",
    "\n",
    "product_column = 'url'\n",
    "urls = list(data[product_column])\n",
    "\n",
    "[jobs.put(_) for _ in urls]\n",
    "threads = []\n",
    "pbar = tqdm(total=len(urls))\n",
    "\n",
    "for worker in range(5):\n",
    "    thread = threading.Thread(target=WorkerLoop, args=(pbar,))\n",
    "    thread.start()\n",
    "    threads.append(thread)\n",
    "\n",
    "for t in threads:\n",
    "    t.join()\n",
    "\n",
    "\n",
    "def qToDf(q):\n",
    "    l = []\n",
    "    while not q.empty():\n",
    "        l.append(q.get())\n",
    "    [q.put(_) for _ in l]\n",
    "    df = pandas.DataFrame(l)\n",
    "    return df\n",
    "\n",
    "\n",
    "df = qToDf(resultQ)\n",
    "df.to_csv(\"sample scrapped.csv\",index=False)\n",
    "\n"
   ],
   "metadata": {
    "collapsed": false,
    "ExecuteTime": {
     "end_time": "2023-09-26T09:55:53.038533100Z",
     "start_time": "2023-09-26T09:54:49.995671400Z"
    }
   }
  },
  {
   "cell_type": "code",
   "execution_count": 3,
   "outputs": [
    {
     "data": {
      "text/plain": "                                                  url  \\\n0   https://www.forum.hr/showthread.php?t=514447&p...   \n1        https://www.forum.hr/showthread.php?t=101410   \n2      https://www.forum.hr/showthread.php?p=52585193   \n3   https://www.forum.hr/showthread.php?t=1250119&...   \n4        https://www.forum.hr/showthread.php?t=712949   \n5        https://www.forum.hr/showthread.php?t=832459   \n6        https://www.forum.hr/showthread.php?t=126102   \n7         https://www.forum.hr/showthread.php?t=77314   \n8   https://www.forum.hr/showthread.php?t=162548&p...   \n9         https://www.forum.hr/showthread.php?t=18539   \n10  https://www.forum.hr/showthread.php?t=777980&p...   \n11  https://www.forum.hr/showthread.php?t=370810&p...   \n12  https://www.forum.hr/showthread.php?t=370810&p...   \n13       https://www.forum.hr/showthread.php?t=232045   \n14  https://www.forum.hr/showthread.php?t=170402&p...   \n15       https://www.forum.hr/showthread.php?t=940675   \n16  https://www.forum.hr/showthread.php?t=55884&pa...   \n\n                                Title  Last page   \n0            Kreme za ruke - Forum.hr        41.0  \n1     Srce - pitanja razna - Forum.hr        59.0  \n2   Problemi s očima/vidom - Forum.hr        66.0  \n3                                 NaN         NaN  \n4                                 NaN         NaN  \n5                                 NaN         NaN  \n6                                 NaN         NaN  \n7                                 NaN         NaN  \n8                                 NaN         NaN  \n9                                 NaN         NaN  \n10                                NaN         NaN  \n11                                NaN         NaN  \n12                                NaN         NaN  \n13                                NaN         NaN  \n14                                NaN         NaN  \n15                                NaN         NaN  \n16                                NaN         NaN  ",
      "text/html": "<div>\n<style scoped>\n    .dataframe tbody tr th:only-of-type {\n        vertical-align: middle;\n    }\n\n    .dataframe tbody tr th {\n        vertical-align: top;\n    }\n\n    .dataframe thead th {\n        text-align: right;\n    }\n</style>\n<table border=\"1\" class=\"dataframe\">\n  <thead>\n    <tr style=\"text-align: right;\">\n      <th></th>\n      <th>url</th>\n      <th>Title</th>\n      <th>Last page</th>\n    </tr>\n  </thead>\n  <tbody>\n    <tr>\n      <th>0</th>\n      <td>https://www.forum.hr/showthread.php?t=514447&amp;p...</td>\n      <td>Kreme za ruke - Forum.hr</td>\n      <td>41.0</td>\n    </tr>\n    <tr>\n      <th>1</th>\n      <td>https://www.forum.hr/showthread.php?t=101410</td>\n      <td>Srce - pitanja razna - Forum.hr</td>\n      <td>59.0</td>\n    </tr>\n    <tr>\n      <th>2</th>\n      <td>https://www.forum.hr/showthread.php?p=52585193</td>\n      <td>Problemi s očima/vidom - Forum.hr</td>\n      <td>66.0</td>\n    </tr>\n    <tr>\n      <th>3</th>\n      <td>https://www.forum.hr/showthread.php?t=1250119&amp;...</td>\n      <td>NaN</td>\n      <td>NaN</td>\n    </tr>\n    <tr>\n      <th>4</th>\n      <td>https://www.forum.hr/showthread.php?t=712949</td>\n      <td>NaN</td>\n      <td>NaN</td>\n    </tr>\n    <tr>\n      <th>5</th>\n      <td>https://www.forum.hr/showthread.php?t=832459</td>\n      <td>NaN</td>\n      <td>NaN</td>\n    </tr>\n    <tr>\n      <th>6</th>\n      <td>https://www.forum.hr/showthread.php?t=126102</td>\n      <td>NaN</td>\n      <td>NaN</td>\n    </tr>\n    <tr>\n      <th>7</th>\n      <td>https://www.forum.hr/showthread.php?t=77314</td>\n      <td>NaN</td>\n      <td>NaN</td>\n    </tr>\n    <tr>\n      <th>8</th>\n      <td>https://www.forum.hr/showthread.php?t=162548&amp;p...</td>\n      <td>NaN</td>\n      <td>NaN</td>\n    </tr>\n    <tr>\n      <th>9</th>\n      <td>https://www.forum.hr/showthread.php?t=18539</td>\n      <td>NaN</td>\n      <td>NaN</td>\n    </tr>\n    <tr>\n      <th>10</th>\n      <td>https://www.forum.hr/showthread.php?t=777980&amp;p...</td>\n      <td>NaN</td>\n      <td>NaN</td>\n    </tr>\n    <tr>\n      <th>11</th>\n      <td>https://www.forum.hr/showthread.php?t=370810&amp;p...</td>\n      <td>NaN</td>\n      <td>NaN</td>\n    </tr>\n    <tr>\n      <th>12</th>\n      <td>https://www.forum.hr/showthread.php?t=370810&amp;p...</td>\n      <td>NaN</td>\n      <td>NaN</td>\n    </tr>\n    <tr>\n      <th>13</th>\n      <td>https://www.forum.hr/showthread.php?t=232045</td>\n      <td>NaN</td>\n      <td>NaN</td>\n    </tr>\n    <tr>\n      <th>14</th>\n      <td>https://www.forum.hr/showthread.php?t=170402&amp;p...</td>\n      <td>NaN</td>\n      <td>NaN</td>\n    </tr>\n    <tr>\n      <th>15</th>\n      <td>https://www.forum.hr/showthread.php?t=940675</td>\n      <td>NaN</td>\n      <td>NaN</td>\n    </tr>\n    <tr>\n      <th>16</th>\n      <td>https://www.forum.hr/showthread.php?t=55884&amp;pa...</td>\n      <td>NaN</td>\n      <td>NaN</td>\n    </tr>\n  </tbody>\n</table>\n</div>"
     },
     "execution_count": 3,
     "metadata": {},
     "output_type": "execute_result"
    }
   ],
   "source": [
    "import pandas\n",
    "data = pandas.read_excel('sample1..xlsx')\n",
    "data"
   ],
   "metadata": {
    "collapsed": false,
    "ExecuteTime": {
     "end_time": "2023-09-26T07:47:20.869140300Z",
     "start_time": "2023-09-26T07:47:19.805208900Z"
    }
   }
  },
  {
   "cell_type": "code",
   "execution_count": null,
   "outputs": [],
   "source": [],
   "metadata": {
    "collapsed": false
   }
  }
 ],
 "metadata": {
  "kernelspec": {
   "display_name": "Python 3",
   "language": "python",
   "name": "python3"
  },
  "language_info": {
   "codemirror_mode": {
    "name": "ipython",
    "version": 2
   },
   "file_extension": ".py",
   "mimetype": "text/x-python",
   "name": "python",
   "nbconvert_exporter": "python",
   "pygments_lexer": "ipython2",
   "version": "2.7.6"
  }
 },
 "nbformat": 4,
 "nbformat_minor": 0
}
