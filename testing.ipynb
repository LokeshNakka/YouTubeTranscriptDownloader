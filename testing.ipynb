{
 "cells": [
  {
   "cell_type": "code",
   "execution_count": 1,
   "outputs": [
    {
     "ename": "ValueError",
     "evalue": "There is no such driver by url https://chromedriver.storage.googleapis.com/LATEST_RELEASE_119.0.6045",
     "output_type": "error",
     "traceback": [
      "\u001B[1;31m---------------------------------------------------------------------------\u001B[0m",
      "\u001B[1;31mValueError\u001B[0m                                Traceback (most recent call last)",
      "Cell \u001B[1;32mIn[1], line 3\u001B[0m\n\u001B[0;32m      1\u001B[0m \u001B[38;5;28;01mfrom\u001B[39;00m \u001B[38;5;21;01mwebdriver_manager\u001B[39;00m\u001B[38;5;21;01m.\u001B[39;00m\u001B[38;5;21;01mchrome\u001B[39;00m \u001B[38;5;28;01mimport\u001B[39;00m ChromeDriverManager\n\u001B[1;32m----> 3\u001B[0m driver_path \u001B[38;5;241m=\u001B[39m \u001B[43mChromeDriverManager\u001B[49m\u001B[43m(\u001B[49m\u001B[43m)\u001B[49m\u001B[38;5;241;43m.\u001B[39;49m\u001B[43minstall\u001B[49m\u001B[43m(\u001B[49m\u001B[43m)\u001B[49m\n\u001B[0;32m      6\u001B[0m \u001B[38;5;28;01mdef\u001B[39;00m \u001B[38;5;21mGetBrowser\u001B[39m(isHeadless\u001B[38;5;241m=\u001B[39m\u001B[38;5;28;01mTrue\u001B[39;00m):\n\u001B[0;32m      7\u001B[0m     opt \u001B[38;5;241m=\u001B[39m Options()\n",
      "File \u001B[1;32mD:\\YouTubeTranscriptDownloader\\venv\\lib\\site-packages\\webdriver_manager\\chrome.py:39\u001B[0m, in \u001B[0;36mChromeDriverManager.install\u001B[1;34m(self)\u001B[0m\n\u001B[0;32m     38\u001B[0m \u001B[38;5;28;01mdef\u001B[39;00m \u001B[38;5;21minstall\u001B[39m(\u001B[38;5;28mself\u001B[39m) \u001B[38;5;241m-\u001B[39m\u001B[38;5;241m>\u001B[39m \u001B[38;5;28mstr\u001B[39m:\n\u001B[1;32m---> 39\u001B[0m     driver_path \u001B[38;5;241m=\u001B[39m \u001B[38;5;28;43mself\u001B[39;49m\u001B[38;5;241;43m.\u001B[39;49m\u001B[43m_get_driver_path\u001B[49m\u001B[43m(\u001B[49m\u001B[38;5;28;43mself\u001B[39;49m\u001B[38;5;241;43m.\u001B[39;49m\u001B[43mdriver\u001B[49m\u001B[43m)\u001B[49m\n\u001B[0;32m     40\u001B[0m     os\u001B[38;5;241m.\u001B[39mchmod(driver_path, \u001B[38;5;241m0o755\u001B[39m)\n\u001B[0;32m     41\u001B[0m     \u001B[38;5;28;01mreturn\u001B[39;00m driver_path\n",
      "File \u001B[1;32mD:\\YouTubeTranscriptDownloader\\venv\\lib\\site-packages\\webdriver_manager\\core\\manager.py:30\u001B[0m, in \u001B[0;36mDriverManager._get_driver_path\u001B[1;34m(self, driver)\u001B[0m\n\u001B[0;32m     27\u001B[0m \u001B[38;5;28;01mif\u001B[39;00m binary_path:\n\u001B[0;32m     28\u001B[0m     \u001B[38;5;28;01mreturn\u001B[39;00m binary_path\n\u001B[1;32m---> 30\u001B[0m file \u001B[38;5;241m=\u001B[39m \u001B[38;5;28mself\u001B[39m\u001B[38;5;241m.\u001B[39m_download_manager\u001B[38;5;241m.\u001B[39mdownload_file(\u001B[43mdriver\u001B[49m\u001B[38;5;241;43m.\u001B[39;49m\u001B[43mget_driver_download_url\u001B[49m\u001B[43m(\u001B[49m\u001B[43m)\u001B[49m)\n\u001B[0;32m     31\u001B[0m binary_path \u001B[38;5;241m=\u001B[39m \u001B[38;5;28mself\u001B[39m\u001B[38;5;241m.\u001B[39mdriver_cache\u001B[38;5;241m.\u001B[39msave_file_to_cache(driver, file)\n\u001B[0;32m     32\u001B[0m \u001B[38;5;28;01mreturn\u001B[39;00m binary_path\n",
      "File \u001B[1;32mD:\\YouTubeTranscriptDownloader\\venv\\lib\\site-packages\\webdriver_manager\\drivers\\chrome.py:40\u001B[0m, in \u001B[0;36mChromeDriver.get_driver_download_url\u001B[1;34m(self)\u001B[0m\n\u001B[0;32m     39\u001B[0m \u001B[38;5;28;01mdef\u001B[39;00m \u001B[38;5;21mget_driver_download_url\u001B[39m(\u001B[38;5;28mself\u001B[39m):\n\u001B[1;32m---> 40\u001B[0m     driver_version_to_download \u001B[38;5;241m=\u001B[39m \u001B[38;5;28;43mself\u001B[39;49m\u001B[38;5;241;43m.\u001B[39;49m\u001B[43mget_driver_version_to_download\u001B[49m\u001B[43m(\u001B[49m\u001B[43m)\u001B[49m\n\u001B[0;32m     41\u001B[0m     os_type \u001B[38;5;241m=\u001B[39m \u001B[38;5;28mself\u001B[39m\u001B[38;5;241m.\u001B[39m_os_type\n\u001B[0;32m     42\u001B[0m     \u001B[38;5;66;03m# For Mac ARM CPUs after version 106.0.5249.61 the format of OS type changed\u001B[39;00m\n\u001B[0;32m     43\u001B[0m     \u001B[38;5;66;03m# to more unified \"mac_arm64\". For newer versions, it'll be \"mac_arm64\"\u001B[39;00m\n\u001B[0;32m     44\u001B[0m     \u001B[38;5;66;03m# by default, for lower versions we replace \"mac_arm64\" to old format - \"mac64_m1\".\u001B[39;00m\n",
      "File \u001B[1;32mD:\\YouTubeTranscriptDownloader\\venv\\lib\\site-packages\\webdriver_manager\\core\\driver.py:51\u001B[0m, in \u001B[0;36mDriver.get_driver_version_to_download\u001B[1;34m(self)\u001B[0m\n\u001B[0;32m     45\u001B[0m \u001B[38;5;250m\u001B[39m\u001B[38;5;124;03m\"\"\"\u001B[39;00m\n\u001B[0;32m     46\u001B[0m \u001B[38;5;124;03mDownloads version from parameter if version not None or \"latest\".\u001B[39;00m\n\u001B[0;32m     47\u001B[0m \u001B[38;5;124;03mDownloads latest, if version is \"latest\" or browser could not been determined.\u001B[39;00m\n\u001B[0;32m     48\u001B[0m \u001B[38;5;124;03mDownloads determined browser version driver in all other ways as a bonus fallback for lazy users.\u001B[39;00m\n\u001B[0;32m     49\u001B[0m \u001B[38;5;124;03m\"\"\"\u001B[39;00m\n\u001B[0;32m     50\u001B[0m \u001B[38;5;28;01mif\u001B[39;00m \u001B[38;5;129;01mnot\u001B[39;00m \u001B[38;5;28mself\u001B[39m\u001B[38;5;241m.\u001B[39m_driver_to_download_version:\n\u001B[1;32m---> 51\u001B[0m     \u001B[38;5;28mself\u001B[39m\u001B[38;5;241m.\u001B[39m_driver_to_download_version \u001B[38;5;241m=\u001B[39m \u001B[38;5;28mself\u001B[39m\u001B[38;5;241m.\u001B[39m_version \u001B[38;5;28;01mif\u001B[39;00m \u001B[38;5;28mself\u001B[39m\u001B[38;5;241m.\u001B[39m_version \u001B[38;5;129;01mnot\u001B[39;00m \u001B[38;5;129;01min\u001B[39;00m (\u001B[38;5;28;01mNone\u001B[39;00m, \u001B[38;5;124m\"\u001B[39m\u001B[38;5;124mlatest\u001B[39m\u001B[38;5;124m\"\u001B[39m) \u001B[38;5;28;01melse\u001B[39;00m \u001B[38;5;28;43mself\u001B[39;49m\u001B[38;5;241;43m.\u001B[39;49m\u001B[43mget_latest_release_version\u001B[49m\u001B[43m(\u001B[49m\u001B[43m)\u001B[49m\n\u001B[0;32m     52\u001B[0m \u001B[38;5;28;01mreturn\u001B[39;00m \u001B[38;5;28mself\u001B[39m\u001B[38;5;241m.\u001B[39m_driver_to_download_version\n",
      "File \u001B[1;32mD:\\YouTubeTranscriptDownloader\\venv\\lib\\site-packages\\webdriver_manager\\drivers\\chrome.py:62\u001B[0m, in \u001B[0;36mChromeDriver.get_latest_release_version\u001B[1;34m(self)\u001B[0m\n\u001B[0;32m     56\u001B[0m log(\u001B[38;5;124mf\u001B[39m\u001B[38;5;124m\"\u001B[39m\u001B[38;5;124mGet LATEST \u001B[39m\u001B[38;5;132;01m{\u001B[39;00m\u001B[38;5;28mself\u001B[39m\u001B[38;5;241m.\u001B[39m_name\u001B[38;5;132;01m}\u001B[39;00m\u001B[38;5;124m version for \u001B[39m\u001B[38;5;132;01m{\u001B[39;00m\u001B[38;5;28mself\u001B[39m\u001B[38;5;241m.\u001B[39m_browser_type\u001B[38;5;132;01m}\u001B[39;00m\u001B[38;5;124m\"\u001B[39m)\n\u001B[0;32m     57\u001B[0m latest_release_url \u001B[38;5;241m=\u001B[39m (\n\u001B[0;32m     58\u001B[0m     \u001B[38;5;28mself\u001B[39m\u001B[38;5;241m.\u001B[39m_latest_release_url\n\u001B[0;32m     59\u001B[0m     \u001B[38;5;28;01mif\u001B[39;00m (\u001B[38;5;28mself\u001B[39m\u001B[38;5;241m.\u001B[39m_version \u001B[38;5;241m==\u001B[39m \u001B[38;5;124m\"\u001B[39m\u001B[38;5;124mlatest\u001B[39m\u001B[38;5;124m\"\u001B[39m \u001B[38;5;129;01mor\u001B[39;00m determined_browser_version \u001B[38;5;129;01mis\u001B[39;00m \u001B[38;5;28;01mNone\u001B[39;00m)\n\u001B[0;32m     60\u001B[0m     \u001B[38;5;28;01melse\u001B[39;00m \u001B[38;5;124mf\u001B[39m\u001B[38;5;124m\"\u001B[39m\u001B[38;5;132;01m{\u001B[39;00m\u001B[38;5;28mself\u001B[39m\u001B[38;5;241m.\u001B[39m_latest_release_url\u001B[38;5;132;01m}\u001B[39;00m\u001B[38;5;124m_\u001B[39m\u001B[38;5;132;01m{\u001B[39;00mdetermined_browser_version\u001B[38;5;132;01m}\u001B[39;00m\u001B[38;5;124m\"\u001B[39m\n\u001B[0;32m     61\u001B[0m )\n\u001B[1;32m---> 62\u001B[0m resp \u001B[38;5;241m=\u001B[39m \u001B[38;5;28;43mself\u001B[39;49m\u001B[38;5;241;43m.\u001B[39;49m\u001B[43m_http_client\u001B[49m\u001B[38;5;241;43m.\u001B[39;49m\u001B[43mget\u001B[49m\u001B[43m(\u001B[49m\u001B[43murl\u001B[49m\u001B[38;5;241;43m=\u001B[39;49m\u001B[43mlatest_release_url\u001B[49m\u001B[43m)\u001B[49m\n\u001B[0;32m     63\u001B[0m \u001B[38;5;28;01mreturn\u001B[39;00m resp\u001B[38;5;241m.\u001B[39mtext\u001B[38;5;241m.\u001B[39mrstrip()\n",
      "File \u001B[1;32mD:\\YouTubeTranscriptDownloader\\venv\\lib\\site-packages\\webdriver_manager\\core\\http.py:37\u001B[0m, in \u001B[0;36mWDMHttpClient.get\u001B[1;34m(self, url, **kwargs)\u001B[0m\n\u001B[0;32m     35\u001B[0m \u001B[38;5;28;01mexcept\u001B[39;00m exceptions\u001B[38;5;241m.\u001B[39mConnectionError:\n\u001B[0;32m     36\u001B[0m     \u001B[38;5;28;01mraise\u001B[39;00m \u001B[38;5;167;01mConnectionError\u001B[39;00m(\u001B[38;5;124mf\u001B[39m\u001B[38;5;124m\"\u001B[39m\u001B[38;5;124mCould not reach host. Are you offline?\u001B[39m\u001B[38;5;124m\"\u001B[39m)\n\u001B[1;32m---> 37\u001B[0m \u001B[38;5;28;43mself\u001B[39;49m\u001B[38;5;241;43m.\u001B[39;49m\u001B[43mvalidate_response\u001B[49m\u001B[43m(\u001B[49m\u001B[43mresp\u001B[49m\u001B[43m)\u001B[49m\n\u001B[0;32m     38\u001B[0m \u001B[38;5;28;01mif\u001B[39;00m wdm_progress_bar():\n\u001B[0;32m     39\u001B[0m     show_download_progress(resp)\n",
      "File \u001B[1;32mD:\\YouTubeTranscriptDownloader\\venv\\lib\\site-packages\\webdriver_manager\\core\\http.py:16\u001B[0m, in \u001B[0;36mHttpClient.validate_response\u001B[1;34m(resp)\u001B[0m\n\u001B[0;32m     14\u001B[0m status_code \u001B[38;5;241m=\u001B[39m resp\u001B[38;5;241m.\u001B[39mstatus_code\n\u001B[0;32m     15\u001B[0m \u001B[38;5;28;01mif\u001B[39;00m status_code \u001B[38;5;241m==\u001B[39m \u001B[38;5;241m404\u001B[39m:\n\u001B[1;32m---> 16\u001B[0m     \u001B[38;5;28;01mraise\u001B[39;00m \u001B[38;5;167;01mValueError\u001B[39;00m(\u001B[38;5;124mf\u001B[39m\u001B[38;5;124m\"\u001B[39m\u001B[38;5;124mThere is no such driver by url \u001B[39m\u001B[38;5;132;01m{\u001B[39;00mresp\u001B[38;5;241m.\u001B[39murl\u001B[38;5;132;01m}\u001B[39;00m\u001B[38;5;124m\"\u001B[39m)\n\u001B[0;32m     17\u001B[0m \u001B[38;5;28;01melif\u001B[39;00m status_code \u001B[38;5;241m==\u001B[39m \u001B[38;5;241m401\u001B[39m:\n\u001B[0;32m     18\u001B[0m     \u001B[38;5;28;01mraise\u001B[39;00m \u001B[38;5;167;01mValueError\u001B[39;00m(\u001B[38;5;124mf\u001B[39m\u001B[38;5;124m\"\u001B[39m\u001B[38;5;124mAPI Rate limit exceeded. You have to add GH_TOKEN!!!\u001B[39m\u001B[38;5;124m\"\u001B[39m)\n",
      "\u001B[1;31mValueError\u001B[0m: There is no such driver by url https://chromedriver.storage.googleapis.com/LATEST_RELEASE_119.0.6045"
     ]
    }
   ],
   "source": [
    "\n",
    "\n",
    "from webdriver_manager.chrome import ChromeDriverManager\n",
    "\n",
    "driver_path = ChromeDriverManager().install()\n",
    "\n",
    "\n",
    "def GetBrowser(isHeadless=True):\n",
    "    opt = Options()\n",
    "    if isHeadless:\n",
    "        opt.add_argument(\"--headless\")\n",
    "    opt.add_argument(\"--mute-audio\")\n",
    "    opt.add_argument(\"--disable-notifications\")\n",
    "    capabilities = DesiredCapabilities.CHROME\n",
    "    capabilities[\"goog:loggingPrefs\"] = {\"performance\": \"ALL\"}\n",
    "    try:\n",
    "        return Chrome(service=Service(driver_path), options=opt)\n",
    "    except Exception as err:\n",
    "        print(err)\n",
    "\n",
    "# def Download(vid, tlang=None):\n",
    "#     url = f'https://www.youtube.com/watch?v={vid}'\n",
    "#\n",
    "#     driver = GetBrowser()\n",
    "#     driver.get(url)\n",
    "#\n",
    "#     while True:\n",
    "#         try:\n",
    "#             driver.get(url)\n",
    "#             break\n",
    "#         except Exception as err:\n",
    "#             print(err)\n",
    "#             time.sleep(2)\n",
    "#\n",
    "#     try:\n",
    "#         cc_element = WebDriverWait(driver, 8).until(\n",
    "#             EC.presence_of_element_located((By.XPATH, '//button[@class=\"ytp-subtitles-button ytp-button\"]')))\n",
    "#         cc_element.click()\n",
    "#     except Exception as err:\n",
    "#         print(err)\n",
    "#         raise CCNotAvailable('CC Not Available For This Video')\n",
    "#\n",
    "#     perf_logs = driver.get_log('performance')[::-1]\n",
    "#     for ind, log in enumerate(perf_logs):\n",
    "#         s = f'\\n{str(log)}'\n",
    "#         links = re.findall(r'https://www.youtube.com/api/timedtext[^\"]+', s)\n",
    "#         if len(links) > 0:\n",
    "#             while True:\n",
    "#                 try:\n",
    "#                     url = links[-1]\n",
    "#                     response = requests.get(url if tlang is None else f'{url}&tlang={tlang}')\n",
    "#                     events = response.json()['events']\n",
    "#\n",
    "#                     with open('subtitles.json', 'w') as jFile:\n",
    "#                         json.dump(response.json(), jFile)\n",
    "#\n",
    "#                     subtitles_entries = []\n",
    "#                     sub_index = 1\n",
    "#\n",
    "#                     for index, entry in enumerate(events):\n",
    "#                         segs = entry.get('segs', None)\n",
    "#                         if segs is not None:\n",
    "#                             dialogue = ''.join([_.get('utf8', '') for _ in segs]).strip('\\n')\n",
    "#                             if len(dialogue) == 0:\n",
    "#                                 continue\n",
    "#                             else:\n",
    "#                                 tStartMs = entry.get('tStartMs', 0)\n",
    "#                                 tEndMs = events[index + 1].get('tStartMs', None) if index + 1 < len(\n",
    "#                                     events) else entry.get('dDurationMs', 0) + tStartMs\n",
    "#                                 s_entry = f'{sub_index}\\n{sub_TimeStamp(tStartMs)} --> {sub_TimeStamp(tEndMs)}\\n{dialogue}\\n'\n",
    "#                                 subtitles_entries.append(s_entry)\n",
    "#                                 sub_index += 1\n",
    "#\n",
    "#                     with open('subtitles.srt', 'w', encoding='utf-8') as f:\n",
    "#                         f.write('\\n'.join(subtitles_entries))\n",
    "#                     break\n",
    "#                 except Exception as err:\n",
    "#                     print(err)\n",
    "#                     time.sleep(1)\n",
    "#             break\n",
    "#         elif len(perf_logs) - 1 == ind:\n",
    "#             raise CCNotAvailable('CC Not Found In Network.Request')\n"
   ],
   "metadata": {
    "collapsed": false,
    "ExecuteTime": {
     "end_time": "2023-11-18T09:56:22.740677100Z",
     "start_time": "2023-11-18T09:56:21.132255100Z"
    }
   }
  },
  {
   "cell_type": "code",
   "execution_count": 15,
   "outputs": [
    {
     "name": "stderr",
     "output_type": "stream",
     "text": [
      "  1%|          | 5/552 [01:41<3:05:23, 20.34s/it]\n",
      "  1%|          | 5/552 [00:36<1:17:32,  8.50s/it]"
     ]
    }
   ],
   "source": [
    "import threading\n",
    "import os\n",
    "import pandas\n",
    "import time\n",
    "from tqdm import tqdm\n",
    "import queue\n",
    "from lxml import html\n",
    "from selenium.webdriver.support import expected_conditions as EC\n",
    "from selenium.webdriver.common.by import By\n",
    "from selenium.webdriver.support.wait import WebDriverWait\n",
    "from selenium.webdriver import Chrome, Edge\n",
    "from selenium.webdriver.edge.options import Options as EdgeOptions\n",
    "from selenium.webdriver.chrome.options import Options\n",
    "from selenium.webdriver.chrome.service import Service\n",
    "from selenium.webdriver.common.desired_capabilities import DesiredCapabilities\n",
    "from webdriver_manager.chrome import ChromeDriverManager\n",
    "from webdriver_manager.microsoft import EdgeChromiumDriverManager\n",
    "\n",
    "\n",
    "\n",
    "def GetChromeBrowser(isHeadless=True):\n",
    "    opt = Options()\n",
    "    if isHeadless:\n",
    "        opt.add_argument(\"--headless\")\n",
    "    opt.add_argument(\"--mute-audio\")\n",
    "    opt.add_argument(\"--disable-notifications\")\n",
    "    capabilities = DesiredCapabilities.CHROME\n",
    "    capabilities[\"goog:loggingPrefs\"] = {\"performance\": \"ALL\"}\n",
    "    try:\n",
    "        return Chrome(service=Service(ChromeDriverManager().install()), options=opt)\n",
    "    except Exception as err:\n",
    "        print(err)\n",
    "\n",
    "def GetEdgeBrowser(isHeadless=True):\n",
    "    options = EdgeOptions()\n",
    "    if isHeadless:\n",
    "        options.add_argument(\"--headless\")\n",
    "    options.add_argument(\"--mute-audio\")\n",
    "    options.add_argument(\"--disable-notifications\")\n",
    "\n",
    "    try:\n",
    "        return Edge(service=Service(EdgeChromiumDriverManager().install()), options=options)\n",
    "    except Exception as err:\n",
    "        print(err)\n",
    "\n",
    "resultQ = queue.Queue()\n",
    "errorQ = queue.Queue()\n",
    "\n",
    "\n",
    "def Scrapper(driver, url):\n",
    "    driver.get(url)\n",
    "    try:\n",
    "        cc_element = WebDriverWait(driver, 25).until(\n",
    "            EC.visibility_of_all_elements_located((By.XPATH, '//div[@class=\"image-grid-image\"]')))\n",
    "    except:\n",
    "        pass\n",
    "    driver.execute_script(\"window.scrollTo(0, document.body.scrollHeight * .2);\")\n",
    "\n",
    "    try:\n",
    "        cc_element = WebDriverWait(driver, 15).until(\n",
    "            EC.presence_of_element_located((By.XPATH, '//div[@class=\"index-showMoreText\"]')))\n",
    "        cc_element.click()\n",
    "    except:\n",
    "        pass\n",
    "\n",
    "    time.sleep(1)\n",
    "\n",
    "    page_source = driver.page_source\n",
    "    doc = html.fromstring(page_source)\n",
    "    d_data = {}\n",
    "\n",
    "    offers = d_data['offers'] = ''.join(doc.xpath('//*[@class=\"pdp-offers-price\"]/descendant::text()'))\n",
    "    title = d_data['title'] = ''.join(doc.xpath('//*[@class=\"pdp-title\"]/descendant::text()'))\n",
    "    name = d_data['name'] = ''.join(doc.xpath('//*[@class=\"pdp-name\"]/descendant::text()'))\n",
    "    price = d_data['mrp'] = ''.join(doc.xpath('//*[@class=\"pdp-mrp\"]/descendant::text()'))\n",
    "    pr_container = d_data['pr_container'] = ''.join(\n",
    "        doc.xpath('//*[@class=\"pdp-discount-container\"]/descendant::text()'))\n",
    "    price = d_data['price'] = ''.join(doc.xpath('//*[@class=\"pdp-price\"]/descendant::text()'))\n",
    "\n",
    "    sizes = doc.xpath('//*[@class=\"size-buttons-tipAndBtnContainer\"]')\n",
    "    sizes_text = []\n",
    "    for index, _ in enumerate(sizes):\n",
    "        t = '\\n'.join(_.xpath('descendant::text()'))\n",
    "        sizes_text.append(t)\n",
    "        d_data[f'size_{index}'] = t\n",
    "\n",
    "    paras = doc.xpath('//*[@class=\"pdp-productDescriptorsContainer\"]/child::div')\n",
    "    for __ in paras:\n",
    "        text = '\\n'.join(__.xpath('descendant::text()')).lower()\n",
    "        if text.__contains__('PRODUCT DETAILS'.lower()):\n",
    "            d_data['product_details'] = '\\n'.join(__.xpath('descendant::text()'))\n",
    "        if text.__contains__('Size & Fit'.lower()):\n",
    "            d_data['size_fit'] = '\\n'.join(__.xpath('descendant::text()'))\n",
    "        if text.__contains__('Material & Care'.lower()):\n",
    "            d_data['material_care'] = '\\n'.join(__.xpath('descendant::text()'))\n",
    "        if text.__contains__('Specifications'.lower()):\n",
    "            specification = __.xpath('descendant::*[@class=\"index-row\"]')\n",
    "            for _ in specification:\n",
    "                d_data[''.join(_.xpath('child::*[1]/text()'))] = ''.join(_.xpath('child::*[2]/text()'))\n",
    "\n",
    "    images  = '|'.join(doc.xpath('//div[@class=\"image-grid-image\"]/@style'))\n",
    "    pattern = re.compile(r'https://[^\"]+')\n",
    "    # Find all matches in the input string\n",
    "    matches = pattern.findall(images)\n",
    "    d_data['images'] = '/n'.join(matches)\n",
    "    d_data['product'] = url\n",
    "    resultQ.put(d_data)\n",
    "\n",
    "\n",
    "files = os.listdir('myntra_men')\n",
    "\n",
    "jobs = queue.Queue()\n",
    "\n",
    "\n",
    "def WorkerLoop(progress_bar: tqdm):\n",
    "    # driver = GetChromeBrowser(False)\n",
    "    driver = GetEdgeBrowser(False)\n",
    "    while not jobs.empty():\n",
    "        url = jobs.get()\n",
    "        try:\n",
    "            Scrapper(driver, url)\n",
    "        except:\n",
    "            errorQ.put({'url': url})\n",
    "\n",
    "            pass\n",
    "        time.sleep(1)\n",
    "        progress_bar.update()\n",
    "\n",
    "\n",
    "i = 'myntra.csv'\n",
    "path = f'myntra_men/{i}'\n",
    "if i.__contains__('.csv'):\n",
    "    data = pandas.read_csv(path)\n",
    "else:\n",
    "    data = pandas.read_excel(path)\n",
    "\n",
    "urls = list(data['product-base href'])\n",
    "[jobs.put(_) for _ in urls[:5]]\n",
    "threads = []\n",
    "pbar = tqdm(total=len(urls))\n",
    "\n",
    "for worker in range(6):\n",
    "    thread = threading.Thread(target=WorkerLoop, args=(pbar,))\n",
    "    thread.start()\n",
    "    threads.append(thread)\n",
    "\n",
    "for t in threads:\n",
    "    t.join()\n",
    "\n",
    "\n",
    "def qToDf(q):\n",
    "    l = []\n",
    "    while not q.empty():\n",
    "        l.append(q.get())\n",
    "\n",
    "    df = pandas.DataFrame(l)\n",
    "    return df\n",
    "\n",
    "\n",
    "qToDf(resultQ).to_csv(f'{\"\".join(i.split(\".\")[:-1])}_scrapped_result.csv', index=False)\n",
    "qToDf(errorQ).to_csv(f'{\"\".join(i.split(\".\")[:-1])}_scrapped_error.csv', index=False)\n",
    "\n"
   ],
   "metadata": {
    "collapsed": false,
    "ExecuteTime": {
     "end_time": "2023-11-18T07:07:28.913389200Z",
     "start_time": "2023-11-18T07:06:50.368056400Z"
    }
   }
  },
  {
   "cell_type": "code",
   "execution_count": 10,
   "outputs": [
    {
     "name": "stdout",
     "output_type": "stream",
     "text": [
      "myntra_scrapped_result.csv\n"
     ]
    }
   ],
   "source": [
    "qToDf(resultQ).to_csv(f'{\"\".join(i.split(\".\")[:-1])}_scrapped_result.csv', index=False)\n",
    "qToDf(errorQ).to_csv(f'{\"\".join(i.split(\".\")[:-1])}_scrapped_error.csv', index=False)\n",
    "\n",
    "print(f'{\"\".join(i.split(\".\")[:-1])}_scrapped_result.csv')"
   ],
   "metadata": {
    "collapsed": false,
    "ExecuteTime": {
     "end_time": "2023-11-18T06:58:53.736099700Z",
     "start_time": "2023-11-18T06:58:53.722137Z"
    }
   }
  },
  {
   "cell_type": "code",
   "execution_count": 13,
   "outputs": [
    {
     "name": "stdout",
     "output_type": "stream",
     "text": [
      "https://assets.myntassets.com/h_720,q_90,w_540/v1/assets/images/19451006/2022/8/9/3d5b9dd5-847c-4325-be93-50d7ecdad95a1660045403382VastramayMensGreenSilkBlendJodhpuri1.jpg\n",
      "https://assets.myntassets.com/h_720,q_90,w_540/v1/assets/images/19451006/2022/8/9/8e1bdde8-5c98-42e1-9c16-443508b2d2811660045403339VastramayMensGreenSilkBlendJodhpuri2.jpg\n",
      "https://assets.myntassets.com/h_720,q_90,w_540/v1/assets/images/19451006/2022/8/9/4bf62303-4352-468f-bb73-dae7da66fd061660045403396VastramayMensGreenSilkBlendJodhpuri3.jpg\n",
      "https://assets.myntassets.com/h_720,q_90,w_540/v1/assets/images/19451006/2022/8/9/713b3bc1-ed90-4cdc-b236-4c9b3ecd5d1f1660045403355VastramayMensGreenSilkBlendJodhpuri4.jpg\n",
      "https://assets.myntassets.com/h_720,q_90,w_540/v1/assets/images/19451006/2022/8/9/a66d88d1-3bfc-4068-b8bd-10603a5a5e751660045403368VastramayMensGreenSilkBlendJodhpuri5.jpg\n"
     ]
    }
   ],
   "source": [
    "import re\n",
    "input_string = '''\n",
    "background-image: url(\"https://assets.myntassets.com/h_720,q_90,w_540/v1/assets/images/19451006/2022/8/9/3d5b9dd5-847c-4325-be93-50d7ecdad95a1660045403382VastramayMensGreenSilkBlendJodhpuri1.jpg\");\n",
    "background-image: url(\"https://assets.myntassets.com/h_720,q_90,w_540/v1/assets/images/19451006/2022/8/9/8e1bdde8-5c98-42e1-9c16-443508b2d2811660045403339VastramayMensGreenSilkBlendJodhpuri2.jpg\");\n",
    "background-image: url(\"https://assets.myntassets.com/h_720,q_90,w_540/v1/assets/images/19451006/2022/8/9/4bf62303-4352-468f-bb73-dae7da66fd061660045403396VastramayMensGreenSilkBlendJodhpuri3.jpg\");\n",
    "background-image: url(\"https://assets.myntassets.com/h_720,q_90,w_540/v1/assets/images/19451006/2022/8/9/713b3bc1-ed90-4cdc-b236-4c9b3ecd5d1f1660045403355VastramayMensGreenSilkBlendJodhpuri4.jpg\");\n",
    "background-image: url(\"https://assets.myntassets.com/h_720,q_90,w_540/v1/assets/images/19451006/2022/8/9/a66d88d1-3bfc-4068-b8bd-10603a5a5e751660045403368VastramayMensGreenSilkBlendJodhpuri5.jpg\");\n",
    "'''\n",
    "\n",
    "# Define the regex pattern\n",
    "pattern = re.compile(r'https://[^\"]+')\n",
    "\n",
    "# Find all matches in the input string\n",
    "matches = pattern.findall(input_string)\n",
    "\n",
    "# Print the matches\n",
    "for match in matches:\n",
    "    print(match)"
   ],
   "metadata": {
    "collapsed": false,
    "ExecuteTime": {
     "end_time": "2023-11-18T07:02:55.787820400Z",
     "start_time": "2023-11-18T07:02:55.749917400Z"
    }
   }
  },
  {
   "cell_type": "code",
   "execution_count": 54,
   "outputs": [
    {
     "name": "stdout",
     "output_type": "stream",
     "text": [
      "<Response [200]>\n",
      "b''\n"
     ]
    }
   ],
   "source": [
    "import requests\n",
    "res = requests.get('https://delightshub.com/product-items.php?item_name=a/*%27order*/+/*by*/+1#')\n",
    "print(res)\n",
    "print(res.text)"
   ],
   "metadata": {
    "collapsed": false,
    "ExecuteTime": {
     "end_time": "2023-11-18T11:51:47.433523600Z",
     "start_time": "2023-11-18T11:51:46.027971500Z"
    }
   }
  },
  {
   "cell_type": "code",
   "execution_count": null,
   "outputs": [],
   "source": [],
   "metadata": {
    "collapsed": false
   }
  }
 ],
 "metadata": {
  "kernelspec": {
   "display_name": "Python 3",
   "language": "python",
   "name": "python3"
  },
  "language_info": {
   "codemirror_mode": {
    "name": "ipython",
    "version": 2
   },
   "file_extension": ".py",
   "mimetype": "text/x-python",
   "name": "python",
   "nbconvert_exporter": "python",
   "pygments_lexer": "ipython2",
   "version": "2.7.6"
  }
 },
 "nbformat": 4,
 "nbformat_minor": 0
}
