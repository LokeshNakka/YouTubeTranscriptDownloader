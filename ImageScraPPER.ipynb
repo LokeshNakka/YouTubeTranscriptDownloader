{
 "cells": [
  {
   "cell_type": "code",
   "execution_count": 1,
   "metadata": {
    "collapsed": true,
    "ExecuteTime": {
     "end_time": "2023-08-19T07:32:44.349661400Z",
     "start_time": "2023-08-19T07:29:24.536663800Z"
    }
   },
   "outputs": [
    {
     "name": "stderr",
     "output_type": "stream",
     "text": [
      "100%|██████████| 174/174 [03:19<00:00,  3.76s/it]"
     ]
    }
   ],
   "source": [
    "import uuid\n",
    "import time\n",
    "import imghdr\n",
    "import io\n",
    "import os\n",
    "import threading\n",
    "from datetime import datetime\n",
    "from queue import Queue\n",
    "\n",
    "import pandas\n",
    "import requests\n",
    "from PIL import Image\n",
    "from tqdm import tqdm\n",
    "\n",
    "recordsQ = Queue()\n",
    "resultQ = Queue()\n",
    "\n",
    "\n",
    "def GetImg(url, name, folderName):\n",
    "    response = requests.get(url, headers={\n",
    "        'accept': 'text/html,application/xhtml+xml,application/xml;q=0.9,image/webp,image/apng,image/*,*/*;q=0.8,application/signed-exchange;v=b3;q=0.7',\n",
    "        'user-agent': 'Mozilla/5.0 (Windows NT 10.0; Win64; x64) AppleWebKit/537.36 (KHTML, like Gecko) Chrome/112.0.0.0 Safari/537.36 Edg/112.0.1722.34'})\n",
    "    image_format = imghdr.what(None, h=response.content)\n",
    "    if image_format is None:\n",
    "        return None\n",
    "    if image_format == 'webp':\n",
    "        with Image.open(io.BytesIO(response.content)) as img:\n",
    "            img = img.convert(\"RGB\")\n",
    "            img.save(f\"{name}.jpg\", \"JPEG\")\n",
    "            return f\"{name}.jpg\"\n",
    "    nName = f'{folderName}/{name}.{image_format}'\n",
    "    with open(nName, 'wb') as f:\n",
    "        f.write(response.content)\n",
    "\n",
    "    return f'{name}.{image_format}'\n",
    "\n",
    "\n",
    "folderName = 'Images'\n",
    "if not os.path.exists(folderName):\n",
    "    os.mkdir(folderName)\n",
    "\n",
    "def GetUniqId(isTimeStamp=False):\n",
    "    # Generate a UUID\n",
    "    return str(int(time.time_ns() / 1_000_000)) if isTimeStamp else str(uuid.uuid4())\n",
    "\n",
    "def Download(progress_bar, colName):\n",
    "    while not recordsQ.empty():\n",
    "        record_dic = recordsQ.get()\n",
    "        hrefs = record_dic.get(colName).split('\\n')\n",
    "        for x, href in enumerate(hrefs):\n",
    "            if not pandas.isna(href):\n",
    "                name = f'{GetUniqId(True)}_{GetUniqId()}'\n",
    "                try:\n",
    "                    nName = GetImg(href, name,folderName)\n",
    "                    record_dic[f'imgLocation_{x}'] = nName\n",
    "                except Exception as e:\n",
    "                    pass\n",
    "\n",
    "        progress_bar.update(1)\n",
    "        resultQ.put(record_dic)\n",
    "\n",
    "\n",
    "i = 'kalamandirroyale Bridal Sarees_scrapped_result.csv'\n",
    "path = f'{i}'\n",
    "\n",
    "if i.__contains__('.csv'):\n",
    "    data = pandas.read_csv(path)\n",
    "else:\n",
    "    data = pandas.read_excel(path)\n",
    "\n",
    "image_column = 'images'\n",
    "urls = data.to_dict('records')\n",
    "\n",
    "[recordsQ.put(_) for _ in urls]\n",
    "threads = []\n",
    "\n",
    "pbar = tqdm(total=len(urls))\n",
    "\n",
    "for worker in range(6):\n",
    "    thread = threading.Thread(target=Download, args=(pbar, image_column))\n",
    "    thread.start()\n",
    "    threads.append(thread)\n",
    "\n",
    "for t in threads:\n",
    "    t.join()\n",
    "\n",
    "\n",
    "def qToDf(q):\n",
    "    l = []\n",
    "    while not q.empty():\n",
    "        l.append(q.get())\n",
    "    [q.put(_) for _ in l]\n",
    "    df = pandas.DataFrame(l)\n",
    "    return df\n",
    "\n",
    "\n",
    "qToDf(resultQ).to_csv(f'with_images_{i}', index=False)\n"
   ]
  },
  {
   "cell_type": "code",
   "execution_count": null,
   "outputs": [],
   "source": [],
   "metadata": {
    "collapsed": false
   }
  }
 ],
 "metadata": {
  "kernelspec": {
   "display_name": "Python 3",
   "language": "python",
   "name": "python3"
  },
  "language_info": {
   "codemirror_mode": {
    "name": "ipython",
    "version": 2
   },
   "file_extension": ".py",
   "mimetype": "text/x-python",
   "name": "python",
   "nbconvert_exporter": "python",
   "pygments_lexer": "ipython2",
   "version": "2.7.6"
  }
 },
 "nbformat": 4,
 "nbformat_minor": 0
}
